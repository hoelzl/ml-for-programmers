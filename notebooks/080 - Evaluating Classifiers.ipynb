{
 "cells": [
  {
   "cell_type": "markdown",
   "metadata": {
    "slideshow": {
     "slide_type": "slide"
    }
   },
   "source": [
    " # How are we doing?\n",
    "\n",
    " How do we know how well our model performs?"
   ]
  },
  {
   "cell_type": "markdown",
   "metadata": {
    "slideshow": {
     "slide_type": "subslide"
    }
   },
   "source": [
    " ## What can go wrong?\n",
    "\n",
    " <img src=\"img/ag/Figure-03-015.png\" style=\"width: 100%; padding: 30px 100px 0\"/>"
   ]
  },
  {
   "cell_type": "markdown",
   "metadata": {
    "slideshow": {
     "slide_type": "subslide"
    }
   },
   "source": [
    " ## What can go wrong?\n",
    "\n",
    " <img src=\"img/ag/Figure-03-021.png\" style=\"width: 100%; padding: 30px 100px 0\"/>"
   ]
  },
  {
   "cell_type": "markdown",
   "metadata": {
    "slideshow": {
     "slide_type": "subslide"
    }
   },
   "source": [
    " ## What can go wrong?\n",
    "\n",
    " <img src=\"img/ag/Figure-03-022.png\" style=\"width: 100%; padding: 30px 100px 0\"/>"
   ]
  },
  {
   "cell_type": "markdown",
   "metadata": {
    "slideshow": {
     "slide_type": "subslide"
    }
   },
   "source": [
    " ## What can go wrong?\n",
    "\n",
    " <img src=\"img/ag/Figure-03-017.png\" style=\"width: 100%; padding: 30px 100px 0\"/>"
   ]
  },
  {
   "cell_type": "markdown",
   "metadata": {
    "slideshow": {
     "slide_type": "subslide"
    }
   },
   "source": [
    "## Confusion Matrix\n",
    "\n",
    " <img src=\"img/ag/Figure-03-018.png\" style=\"width: 100%; padding: 30px 100px 0\"/>"
   ]
  },
  {
   "cell_type": "markdown",
   "metadata": {
    "slideshow": {
     "slide_type": "subslide"
    }
   },
   "source": [
    "## Confusion Matrix\n",
    "\n",
    " <img src=\"img/ag/Figure-03-019.png\" style=\"width: 60%; padding: 30px 100px 0\"/>"
   ]
  },
  {
   "cell_type": "markdown",
   "metadata": {
    "slideshow": {
     "slide_type": "subslide"
    }
   },
   "source": [
    " ## Accuracy: How well are we doing, overall?\n",
    "\n",
    "\n",
    " <img src=\"img/ag/Figure-03-028.png\" style=\"width: 100%; padding: 30px 100px 0\"/>"
   ]
  },
  {
   "cell_type": "markdown",
   "metadata": {
    "slideshow": {
     "slide_type": "subslide"
    }
   },
   "source": [
    " ## Accuracy: How well are we doing, overall?\n",
    "\n",
    "\n",
    " <img src=\"img/ag/Figure-03-029.png\" style=\"width:60%; padding: 30px 100px 0\"/>"
   ]
  },
  {
   "cell_type": "markdown",
   "metadata": {
    "slideshow": {
     "slide_type": "slide"
    }
   },
   "source": [
    " ## Accuracy: How much did we get right?\n",
    "\n",
    "\n",
    " <img src=\"img/ag/Figure-03-023.png\" style=\"width: 100%; padding: 30px 100px 0\"/>"
   ]
  },
  {
   "cell_type": "markdown",
   "metadata": {
    "slideshow": {
     "slide_type": "subslide"
    }
   },
   "source": [
    " ## Precision: How good are our positives?\n",
    "\n",
    "\n",
    " <img src=\"img/ag/Figure-03-030.png\" style=\"width: 80%; padding: 30px 100px 0\"/>"
   ]
  },
  {
   "cell_type": "markdown",
   "metadata": {
    "slideshow": {
     "slide_type": "subslide"
    }
   },
   "source": [
    " ## Precision: How good are our positives?\n",
    "\n",
    "\n",
    " <img src=\"img/ag/Figure-03-024.png\" style=\"width: 100%; padding: 30px 100px 0\"/>"
   ]
  },
  {
   "cell_type": "markdown",
   "metadata": {
    "slideshow": {
     "slide_type": "subslide"
    }
   },
   "source": [
    " ## Recall: How many positives did we lose?\n",
    "\n",
    "\n",
    " <img src=\"img/ag/Figure-03-031.png\" style=\"width: 60%; padding: 30px 100px 0\"/>"
   ]
  },
  {
   "cell_type": "markdown",
   "metadata": {
    "slideshow": {
     "slide_type": "subslide"
    }
   },
   "source": [
    " ## Recall: How many positives did we lose?\n",
    "\n",
    "\n",
    " <img src=\"img/ag/Figure-03-026.png\" style=\"width: 100%; padding: 30px 100px 0\"/>"
   ]
  },
  {
   "cell_type": "markdown",
   "metadata": {
    "slideshow": {
     "slide_type": "subslide"
    }
   },
   "source": [
    " ## Describing Classification Results\n",
    "\n",
    "\n",
    " <img src=\"img/ag/Figure-03-033.png\" style=\"width: 80%; padding: 30px 100px 0\"/>"
   ]
  },
  {
   "cell_type": "markdown",
   "metadata": {
    "slideshow": {
     "slide_type": "subslide"
    }
   },
   "source": [
    " ## Describing Classification Results\n",
    "\n",
    "\n",
    " <img src=\"img/ag/Figure-03-034.png\" style=\"width: 100%; padding: 30px 100px 0\"/>"
   ]
  },
  {
   "cell_type": "markdown",
   "metadata": {
    "slideshow": {
     "slide_type": "subslide"
    }
   },
   "source": [
    " ## Describing Classification Results\n",
    "\n",
    "\n",
    " <img src=\"img/ag/Figure-03-032.png\" style=\"width: 100%; padding: 30px 100px 0\"/>"
   ]
  },
  {
   "cell_type": "markdown",
   "metadata": {
    "slideshow": {
     "slide_type": "slide"
    }
   },
   "source": [
    " ## Precision/Recall Tradeoff\n",
    "\n",
    " <img src=\"img/ag/Figure-03-017.png\" style=\"width: 100%; padding: 30px 100px 0\"/>"
   ]
  },
  {
   "cell_type": "markdown",
   "metadata": {
    "slideshow": {
     "slide_type": "subslide"
    }
   },
   "source": [
    "## Precision/Recall Tradeoff\n",
    "\n",
    "<img src=\"img/ag/Figure-03-035.png\" style=\"width: 100%; padding: 30px 100px 0\"/>"
   ]
  },
  {
   "cell_type": "markdown",
   "metadata": {
    "slideshow": {
     "slide_type": "subslide"
    }
   },
   "source": [
    "## Precision/Recall Tradeoff\n",
    "\n",
    "<img src=\"img/ag/Figure-03-036.png\" style=\"width: 70%; padding: auto\"/>"
   ]
  },
  {
   "cell_type": "markdown",
   "metadata": {
    "slideshow": {
     "slide_type": "subslide"
    }
   },
   "source": [
    "## Precision/Recall Tradeoff\n",
    "\n",
    "<img src=\"img/ag/Figure-03-037.png\" style=\"width: 80%; padding: auto\"/>"
   ]
  },
  {
   "cell_type": "markdown",
   "metadata": {
    "slideshow": {
     "slide_type": "subslide"
    }
   },
   "source": [
    "## Precision/Recall Tradeoff\n",
    "\n",
    "<img src=\"img/ag/Figure-03-038.png\" style=\"width: 70%; padding: auto\"/>"
   ]
  },
  {
   "cell_type": "markdown",
   "metadata": {
    "slideshow": {
     "slide_type": "slide"
    }
   },
   "source": [
    " ## F1: Evaluating Precision/Recall Tradeoff\n",
    "\n",
    "\n",
    " <img src=\"img/ag/Figure-03-039.png\" style=\"width: 100%; padding: 30px 100px 0\"/>"
   ]
  },
  {
   "cell_type": "markdown",
   "metadata": {
    "slideshow": {
     "slide_type": "slide"
    }
   },
   "source": [
    " ## Imbalanced Data\n",
    "\n",
    " <img src=\"img/ag/Figure-03-020.png\" style=\"width: 60%; padding: 30px 100px 0\"/>"
   ]
  },
  {
   "cell_type": "markdown",
   "metadata": {
    "slideshow": {
     "slide_type": "subslide"
    }
   },
   "source": [
    "## Imbalanced Data\n",
    "\n",
    "\n",
    " <img src=\"img/ag/Figure-03-040.png\" style=\"width: 60%; padding: 30px 100px 0\"/>"
   ]
  },
  {
   "cell_type": "markdown",
   "metadata": {
    "slideshow": {
     "slide_type": "subslide"
    }
   },
   "source": [
    "## Imbalanced Data\n",
    "\n",
    "\n",
    " <img src=\"img/ag/Figure-03-041.png\" style=\"width: 60%; padding: 30px 50px 0\"/>"
   ]
  },
  {
   "cell_type": "markdown",
   "metadata": {
    "slideshow": {
     "slide_type": "subslide"
    }
   },
   "source": [
    "## Imbalanced Data\n",
    "\n",
    "\n",
    " <img src=\"img/ag/Figure-03-042.png\" style=\"width: 60%; padding: 30px 100px 0\"/>"
   ]
  },
  {
   "cell_type": "markdown",
   "metadata": {
    "slideshow": {
     "slide_type": "subslide"
    }
   },
   "source": [
    "## Imbalanced Data\n",
    "\n",
    "\n",
    " <img src=\"img/ag/Figure-03-043.png\" style=\"width: 100%; padding: 30px 100px 0\"/>"
   ]
  },
  {
   "cell_type": "markdown",
   "metadata": {},
   "source": [
    "\n"
   ]
  }
 ],
 "metadata": {
  "celltoolbar": "Slideshow",
  "jupytext": {
   "formats": "ipynb,auto:percent"
  },
  "kernelspec": {
   "display_name": "Python 3 (ipykernel)",
   "language": "python",
   "name": "python3"
  },
  "language_info": {
   "codemirror_mode": {
    "name": "ipython",
    "version": 3
   },
   "file_extension": ".py",
   "mimetype": "text/x-python",
   "name": "python",
   "nbconvert_exporter": "python",
   "pygments_lexer": "ipython3",
   "version": "3.10.6"
  }
 },
 "nbformat": 4,
 "nbformat_minor": 2
}
