{
 "cells": [
  {
   "cell_type": "markdown",
   "id": "included-valley",
   "metadata": {
    "slideshow": {
     "slide_type": "slide"
    }
   },
   "source": [
    "<h1 style=\"text-align:center;\">Machine Learning for Programmers</h1>\n",
    "<h2 style=\"text-align:center;\">Setup (on Linux)</h2>\n",
    "<h3 style=\"text-align:center;\">Dr. Matthias Hölzl</h3>"
   ]
  },
  {
   "cell_type": "markdown",
   "id": "editorial-oasis",
   "metadata": {
    "slideshow": {
     "slide_type": "slide"
    }
   },
   "source": [
    "# Code for this Course\n",
    "\n",
    "`https://github.com/hoelzl/ml-for-programmers`\n",
    "\n",
    "## Important Commits\n",
    "\n",
    "- `master` branch\n",
    "- `starter-kit-v1` tag"
   ]
  },
  {
   "cell_type": "markdown",
   "id": "juvenile-strategy",
   "metadata": {
    "slideshow": {
     "slide_type": "slide"
    }
   },
   "source": [
    "# Required Packages\n",
    "\n",
    "- numpy\n",
    "- pandas\n",
    "- matplotlib, seaborn\n",
    "- scikit-learn\n",
    "<hr/>\n",
    "\n",
    "- pytorch\n",
    "- fastai"
   ]
  },
  {
   "cell_type": "markdown",
   "id": "generous-commonwealth",
   "metadata": {
    "slideshow": {
     "slide_type": "slide"
    }
   },
   "source": [
    "<h1 style=\"text-align:center;\">Setting up your environment</h1>\n"
   ]
  },
  {
   "cell_type": "markdown",
   "id": "false-fairy",
   "metadata": {
    "slideshow": {
     "slide_type": "slide"
    }
   },
   "source": [
    "# Pip Install ...?\n",
    "\n",
    "- May or may not be what you want...\n",
    "- Use virtual environment(s)"
   ]
  },
  {
   "cell_type": "markdown",
   "id": "recognized-image",
   "metadata": {
    "slideshow": {
     "slide_type": "slide"
    }
   },
   "source": [
    "# Hardware and OS\n",
    "\n",
    "- Traditional ML: OS does not matter\n",
    "- For Deep Learning: Linux, nVidia GPU\n",
    "  - Some libraries provide limited/no support for Windows\n",
    "  - Many DL models are much slower without GPU\n",
    "  - Only CUDA is well supported by all frameworks\n",
    "  - This may change over time (ROCm 4.0 is in beta for PyTorch 1.8)"
   ]
  },
  {
   "cell_type": "markdown",
   "id": "cosmetic-prompt",
   "metadata": {
    "slideshow": {
     "slide_type": "subslide"
    }
   },
   "source": [
    "# If you use Windows\n",
    "\n",
    "- Cloud instances work well\n",
    "- Don't use a local VM\n",
    "  - Need to configure GPU passthrough \n",
    "- WSL2 works amazingly well...\n",
    "  - ... but right now only with the Insider Program Dev Channel"
   ]
  },
  {
   "cell_type": "markdown",
   "id": "ecological-brooklyn",
   "metadata": {
    "slideshow": {
     "slide_type": "slide"
    }
   },
   "source": [
    "# Installation Options\n",
    "\n",
    "- `pip` + manual installation of libraries\n",
    "- `conda` (also installs native dependencies)\n",
    "- Mixed:\n",
    "  - `conda` for basics,\n",
    "  - `pip` for *everything else*"
   ]
  },
  {
   "cell_type": "markdown",
   "id": "spanish-irish",
   "metadata": {
    "slideshow": {
     "slide_type": "subslide"
    }
   },
   "source": [
    "# Not Recommended\n",
    "\n",
    "- `poetry` etc.\n",
    "- Truly mixed `conda` and `pip` install"
   ]
  },
  {
   "cell_type": "markdown",
   "id": "legitimate-increase",
   "metadata": {
    "slideshow": {
     "slide_type": "slide"
    }
   },
   "source": [
    "# Installing Conda\n",
    "\n",
    "- Download Miniconda from <https://docs.conda.io/en/latest/miniconda.html#linux-installers>\n",
    "- Follow the instructions on <https://docs.conda.io/projects/conda/en/latest/user-guide/install/linux.html>"
   ]
  },
  {
   "cell_type": "markdown",
   "id": "latin-cannon",
   "metadata": {
    "slideshow": {
     "slide_type": "slide"
    }
   },
   "source": [
    "# Setting up a Conda Environment\n",
    "\n",
    "- Download the code from GitHub to get the `environment.yml` file\n",
    "- Install using `conda env create --file environment.yml`\n",
    "- Don't update with `conda update --all` (or similar)\n",
    "- Use `conda env update --file environment.yml --prune` instead"
   ]
  },
  {
   "cell_type": "markdown",
   "id": "czech-circulation",
   "metadata": {
    "slideshow": {
     "slide_type": "slide"
    }
   },
   "source": []
  }
 ],
 "metadata": {
  "celltoolbar": "Slideshow",
  "kernelspec": {
   "display_name": "Python 3",
   "language": "python",
   "name": "python3"
  },
  "language_info": {
   "codemirror_mode": {
    "name": "ipython",
    "version": 3
   },
   "file_extension": ".py",
   "mimetype": "text/x-python",
   "name": "python",
   "nbconvert_exporter": "python",
   "pygments_lexer": "ipython3",
   "version": "3.8.8"
  }
 },
 "nbformat": 4,
 "nbformat_minor": 5
}
