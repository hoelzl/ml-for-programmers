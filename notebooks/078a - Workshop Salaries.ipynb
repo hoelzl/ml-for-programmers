{
 "cells": [
  {
   "cell_type": "markdown",
   "id": "25c29cdc",
   "metadata": {},
   "source": [
    "# 078a - Workshop: Salaries\n",
    "\n",
    "The module `ml_for_programmers.data.generators.fake_salary` contains a number of synthetic datasets\n",
    "that represent salary as a function of ages and education level, or ages and profession.\n",
    "\n",
    "Analyze how `linear_salaries`, `stepwise_salaries`, `interpolated_salaries` and `multivar_salaries` depend on `ages` and `education_levels` and train regression models (at least linear and decision tree models) that model these dependencies.\n",
    "\n",
    "Do the same for `multidist_ages`, `professions`, and `multidist_salaries`.\n",
    "\n",
    "*Hint:* The `fake_salary` module contains a number of plots that show the relatinships; to display them run the file as main module or interactively in VS Code. Please try to solve the exercises yourself before looking at the plots."
   ]
  },
  {
   "cell_type": "code",
   "execution_count": null,
   "id": "9b4ea1f6",
   "metadata": {},
   "outputs": [],
   "source": [
    "import matplotlib.pyplot as plt"
   ]
  },
  {
   "cell_type": "code",
   "execution_count": null,
   "id": "6f8392e9",
   "metadata": {},
   "outputs": [],
   "source": [
    "from ml_for_programmers.data.generators.fake_salary import (\n",
    "    ages,\n",
    "    education_levels,\n",
    "    \n",
    "    linear_salaries, \n",
    "    stepwise_salaries, \n",
    "    interpolated_salaries, \n",
    "    multivar_salaries,\n",
    "    \n",
    "    multidist_ages,\n",
    "    professions,\n",
    "    \n",
    "    multidist_salaries,\n",
    ")"
   ]
  },
  {
   "cell_type": "code",
   "execution_count": null,
   "id": "844106ee",
   "metadata": {},
   "outputs": [],
   "source": [
    "ages.shape, education_levels.shape"
   ]
  },
  {
   "cell_type": "code",
   "execution_count": null,
   "id": "ac1a6523",
   "metadata": {},
   "outputs": [],
   "source": [
    "(linear_salaries.shape,\n",
    " stepwise_salaries.shape,\n",
    " interpolated_salaries.shape,\n",
    " multivar_salaries.shape)"
   ]
  },
  {
   "cell_type": "code",
   "execution_count": null,
   "id": "98f9a9da",
   "metadata": {},
   "outputs": [],
   "source": [
    "plt.scatter(ages[:500], linear_salaries[:500], alpha=0.25);"
   ]
  },
  {
   "cell_type": "code",
   "execution_count": null,
   "id": "ae990087",
   "metadata": {},
   "outputs": [],
   "source": [
    "multidist_ages.shape, professions.shape, multidist_salaries.shape"
   ]
  },
  {
   "cell_type": "code",
   "execution_count": null,
   "id": "ff44ef20",
   "metadata": {},
   "outputs": [],
   "source": [
    "plt.scatter(multidist_ages, multidist_salaries, alpha=0.25);"
   ]
  },
  {
   "cell_type": "code",
   "execution_count": null,
   "id": "151f9cb1",
   "metadata": {},
   "outputs": [],
   "source": []
  }
 ],
 "metadata": {
  "jupytext": {
   "formats": "ipynb,auto:percent"
  },
  "kernelspec": {
   "display_name": "Python 3 (ipykernel)",
   "language": "python",
   "name": "python3"
  },
  "language_info": {
   "codemirror_mode": {
    "name": "ipython",
    "version": 3
   },
   "file_extension": ".py",
   "mimetype": "text/x-python",
   "name": "python",
   "nbconvert_exporter": "python",
   "pygments_lexer": "ipython3",
   "version": "3.10.6"
  }
 },
 "nbformat": 4,
 "nbformat_minor": 5
}
