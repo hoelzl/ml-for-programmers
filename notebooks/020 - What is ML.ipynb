{
 "cells": [
  {
   "cell_type": "markdown",
   "id": "armed-victor",
   "metadata": {
    "slideshow": {
     "slide_type": "slide"
    }
   },
   "source": [
    "<h1 style=\"text-align:center;\">Machine Learning for Programmers</h1>\n",
    "<h2 style=\"text-align:center;\">What is ML?</h2>\n",
    "<h3 style=\"text-align:center;\">Dr. Matthias Hölzl</h3>\n"
   ]
  },
  {
   "cell_type": "markdown",
   "id": "moral-detail",
   "metadata": {
    "slideshow": {
     "slide_type": "slide"
    }
   },
   "source": [
    "# Biological Inspiration\n",
    "\n",
    "<img src=\"img/ag/Figure-10-001.png\" style=\"width: 80%; margin-left: auto; margin-right: auto;\"/>"
   ]
  },
  {
   "cell_type": "markdown",
   "id": "quality-escape",
   "metadata": {
    "slideshow": {
     "slide_type": "slide"
    }
   },
   "source": [
    "# The Origins of Machine Learning\n",
    "\n",
    "*A computer can be programmed so that it will learn to play a better game of checkers than can be played by the person who wrote the program.* (Arthur Samuel, 1959)\n",
    "\n",
    "*Programming computers to learn from experience should eventually eliminate the need for much of this detailed programming effort.* (Arthur Samuel, 1959)"
   ]
  },
  {
   "cell_type": "markdown",
   "id": "animated-booth",
   "metadata": {
    "slideshow": {
     "slide_type": "subslide"
    }
   },
   "source": [
    "# One Answer (Andrew Glassner)\n",
    "\n",
    "The phrase *machine learning* describes a growing body of techniques that all have one goal: discover meaningful information from  data. \n",
    "\n",
    "Here, “data” refers to anything that can be recorded and measured. [...]\n",
    "\n",
    "\"Meaningful information\" is whatever we can extract from the data that  will be useful to us in some way."
   ]
  },
  {
   "cell_type": "markdown",
   "id": "cardiovascular-logan",
   "metadata": {
    "slideshow": {
     "slide_type": "subslide"
    }
   },
   "source": [
    "# Andrew Glassner's Books\n",
    "\n",
    "<img src=\"img/glassner-book.jpg\" style=\"width: 60%; margin-left: auto; margin-right: auto;\"/>"
   ]
  },
  {
   "cell_type": "markdown",
   "id": "driven-schema",
   "metadata": {
    "slideshow": {
     "slide_type": "slide"
    }
   },
   "source": [
    "<img src=\"img/ag/Figure-01-001.png\">"
   ]
  },
  {
   "cell_type": "markdown",
   "id": "polish-cambodia",
   "metadata": {
    "slideshow": {
     "slide_type": "subslide"
    }
   },
   "source": [
    "<img src=\"img/ag/Figure-01-002.png\">"
   ]
  },
  {
   "cell_type": "markdown",
   "id": "turned-concrete",
   "metadata": {
    "slideshow": {
     "slide_type": "slide"
    }
   },
   "source": [
    "# Another Answer (paraphrasing François Chollet)\n",
    "\n",
    "- A part of Artificial Intelligence (AI)\n",
    "- AI: Making computers solve problems that could previously only be tackled by humans\n",
    "- AI doesn't have to involve learning, e.g., expert systems\n",
    "- ML: Improving behavior with additional data"
   ]
  },
  {
   "cell_type": "markdown",
   "id": "centered-fortune",
   "metadata": {
    "slideshow": {
     "slide_type": "slide"
    }
   },
   "source": [
    "# Example: MNIST Data\n",
    "\n",
    "<img src=\"img/ag/Figure-01-023.png\" style=\"float: right;width: 40%;\"/>\n",
    "\n",
    "We want to recognize hand-written digits:"
   ]
  },
  {
   "cell_type": "markdown",
   "id": "practical-undergraduate",
   "metadata": {
    "slideshow": {
     "slide_type": "subslide"
    }
   },
   "source": [
    "## Rule-based Systems: Feature Engineering\n",
    "\n",
    "Extraction of relevant features from data by humans."
   ]
  },
  {
   "cell_type": "markdown",
   "id": "delayed-alberta",
   "metadata": {
    "slideshow": {
     "slide_type": "subslide"
    }
   },
   "source": [
    "<img src=\"img/ag/Figure-01-003.png\" style=\"width: 40%; margin-left: auto; margin-right: auto;\">"
   ]
  },
  {
   "cell_type": "markdown",
   "id": "subsequent-stereo",
   "metadata": {
    "slideshow": {
     "slide_type": "subslide"
    }
   },
   "source": [
    "<img src=\"img/ag/Figure-01-004.png\" style=\"width: 20%; margin-left: auto; margin-right: auto;\">"
   ]
  },
  {
   "cell_type": "markdown",
   "id": "passive-frederick",
   "metadata": {
    "slideshow": {
     "slide_type": "slide"
    }
   },
   "source": [
    "# Supervised Learning (Classification)\n",
    "\n",
    "(Learning from labeled data)\n",
    "\n",
    "<img src=\"img/ag/Figure-01-007.png\" style=\"width: 70%; margin-left: auto; margin-right: auto;\"/>"
   ]
  },
  {
   "cell_type": "markdown",
   "id": "precise-domestic",
   "metadata": {
    "slideshow": {
     "slide_type": "subslide"
    }
   },
   "source": [
    "## Training a Classifier\n",
    "\n",
    "- Show lots of labeled data to a learner\n",
    "- Check whether it can correctly classify samples based on features\n",
    "\n",
    "- Evaluation must be based on different data than training\n",
    "- Otherwise the learner could just store the examples it has seen"
   ]
  },
  {
   "cell_type": "markdown",
   "id": "junior-external",
   "metadata": {
    "slideshow": {
     "slide_type": "subslide"
    }
   },
   "source": [
    "## Often: Training Loop\n",
    "\n",
    "<img src=\"img/ag/Figure-08-001.png\" style=\"width: 20%; margin-left: auto; margin-right: auto;\"/>"
   ]
  },
  {
   "cell_type": "markdown",
   "id": "nutritional-destruction",
   "metadata": {
    "slideshow": {
     "slide_type": "slide"
    }
   },
   "source": [
    "# Back to MNIST Data\n",
    "\n",
    "<img src=\"img/ag/Figure-01-023.png\" style=\"float: right;width: 40%;\"/>\n",
    "\n",
    "Let's try this in practice:"
   ]
  },
  {
   "cell_type": "code",
   "execution_count": null,
   "id": "automatic-hybrid",
   "metadata": {
    "slideshow": {
     "slide_type": "slide"
    }
   },
   "outputs": [],
   "source": []
  }
 ],
 "metadata": {
  "celltoolbar": "Slideshow",
  "kernelspec": {
   "display_name": "Python 3",
   "language": "python",
   "name": "python3"
  },
  "language_info": {
   "codemirror_mode": {
    "name": "ipython",
    "version": 3
   },
   "file_extension": ".py",
   "mimetype": "text/x-python",
   "name": "python",
   "nbconvert_exporter": "python",
   "pygments_lexer": "ipython3",
   "version": "3.8.8"
  }
 },
 "nbformat": 4,
 "nbformat_minor": 5
}
