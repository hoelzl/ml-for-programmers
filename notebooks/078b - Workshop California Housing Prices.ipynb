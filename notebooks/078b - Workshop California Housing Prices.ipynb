{
 "cells": [
  {
   "cell_type": "markdown",
   "id": "e0b8977d",
   "metadata": {},
   "source": [
    "# California Housing Prices\n",
    "\n",
    "In this workshop, we'll use one of Scikit-Learn's \"real world\" datasets to predict house prices in California."
   ]
  },
  {
   "cell_type": "code",
   "execution_count": null,
   "id": "160bea0e",
   "metadata": {},
   "outputs": [],
   "source": [
    "import sklearn\n",
    "import sklearn.datasets\n",
    "import numpy as np\n",
    "import seaborn as sns"
   ]
  },
  {
   "cell_type": "markdown",
   "id": "a97330dd",
   "metadata": {},
   "source": [
    "## Load the Dataset\n",
    "\n",
    "You can get the dataset with the `fetch_california_housing()` function."
   ]
  },
  {
   "cell_type": "code",
   "execution_count": null,
   "id": "f4573b0d",
   "metadata": {},
   "outputs": [],
   "source": [
    "housing = sklearn.datasets.fetch_california_housing()"
   ]
  },
  {
   "cell_type": "markdown",
   "id": "39365006",
   "metadata": {},
   "source": [
    "Using `dir` you can see the features; as usual `DESCR` contains a description of the dataset:"
   ]
  },
  {
   "cell_type": "code",
   "execution_count": null,
   "id": "745b3587",
   "metadata": {},
   "outputs": [],
   "source": [
    "dir(housing)"
   ]
  },
  {
   "cell_type": "code",
   "execution_count": null,
   "id": "0c3a9074",
   "metadata": {},
   "outputs": [],
   "source": [
    "housing.feature_names"
   ]
  },
  {
   "cell_type": "code",
   "execution_count": null,
   "id": "20e1e15f",
   "metadata": {},
   "outputs": [],
   "source": [
    "print(sklearn.datasets.fetch_california_housing().DESCR)"
   ]
  },
  {
   "cell_type": "markdown",
   "id": "a0381051",
   "metadata": {},
   "source": [
    "By supplying the `return_X_y` argument you can get back just the features and target values as numpy arrays."
   ]
  },
  {
   "cell_type": "code",
   "execution_count": null,
   "id": "1e7c96ca",
   "metadata": {},
   "outputs": [],
   "source": [
    "x, y = sklearn.datasets.fetch_california_housing(return_X_y=True)"
   ]
  },
  {
   "cell_type": "code",
   "execution_count": null,
   "id": "1c1e12bc",
   "metadata": {},
   "outputs": [],
   "source": [
    "x.shape, y.shape"
   ]
  },
  {
   "cell_type": "markdown",
   "id": "307cb027",
   "metadata": {},
   "source": [
    "## Analyze using Plots\n",
    "\n",
    "Analyze the dataset using PyPlot and Seaborn plots. Plot, e.g., house age vs. price:"
   ]
  },
  {
   "cell_type": "code",
   "execution_count": null,
   "id": "c801df03",
   "metadata": {},
   "outputs": [],
   "source": [
    "sns.scatterplot(x=x[:, 1], y=y);"
   ]
  },
  {
   "cell_type": "markdown",
   "id": "9262450f",
   "metadata": {},
   "source": [
    "By adjusting the plot parameters, you can gain more insight:"
   ]
  },
  {
   "cell_type": "code",
   "execution_count": null,
   "id": "7d218698",
   "metadata": {},
   "outputs": [],
   "source": [
    "sns.scatterplot(x=x[:, 1], y=y, alpha=0.1);"
   ]
  },
  {
   "cell_type": "markdown",
   "id": "13a4c850",
   "metadata": {},
   "source": [
    "Also plot scatterplots of features against each other; use hue with a third feature or the target value to increase the amount of information displayed in the plot."
   ]
  },
  {
   "cell_type": "code",
   "execution_count": null,
   "id": "2b916422",
   "metadata": {},
   "outputs": [],
   "source": [
    "sns.scatterplot(x=x[:, 1], y=x[:, 7], hue=y, alpha=0.4);"
   ]
  },
  {
   "cell_type": "markdown",
   "id": "13ec2fd4",
   "metadata": {},
   "source": [
    "Use different plots to understand the dataset. The dataset has some obvious problems. Which ones can you identify? What measures could you take to fix these problems or at least lessen their impact on the machine learning tasks?"
   ]
  },
  {
   "cell_type": "markdown",
   "id": "9315bd40",
   "metadata": {},
   "source": [
    "## Building Models\n",
    "\n",
    "Train at least a linear regression and a decision tree model to predict housing prices in California. Experiment with different hyperparameter settings to see what maximum performance you can get from each model type. Is overfitting a problem?"
   ]
  },
  {
   "cell_type": "markdown",
   "id": "0bf2f9c9",
   "metadata": {},
   "source": [
    "I hope you have fun with this exercise."
   ]
  },
  {
   "cell_type": "code",
   "execution_count": null,
   "id": "952e3f87",
   "metadata": {},
   "outputs": [],
   "source": []
  }
 ],
 "metadata": {
  "kernelspec": {
   "display_name": "Python 3",
   "language": "python",
   "name": "python3"
  },
  "language_info": {
   "codemirror_mode": {
    "name": "ipython",
    "version": 3
   },
   "file_extension": ".py",
   "mimetype": "text/x-python",
   "name": "python",
   "nbconvert_exporter": "python",
   "pygments_lexer": "ipython3",
   "version": "3.8.8"
  }
 },
 "nbformat": 4,
 "nbformat_minor": 5
}
